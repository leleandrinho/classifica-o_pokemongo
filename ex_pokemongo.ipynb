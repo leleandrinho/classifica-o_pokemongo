{
  "nbformat": 4,
  "nbformat_minor": 0,
  "metadata": {
    "colab": {
      "provenance": []
    },
    "kernelspec": {
      "name": "python3",
      "display_name": "Python 3"
    },
    "language_info": {
      "name": "python"
    }
  },
  "cells": [
    {
      "cell_type": "code",
      "execution_count": 1,
      "metadata": {
        "id": "C7T_krndfgGf"
      },
      "outputs": [],
      "source": [
        "import pandas as pd\n",
        "from sklearn.model_selection import train_test_split\n",
        "from sklearn.ensemble import RandomForestClassifier\n",
        "from sklearn.tree import DecisionTreeClassifier\n",
        "from sklearn.metrics import accuracy_score\n",
        "from sklearn.pipeline import Pipeline\n",
        "from sklearn.model_selection import GridSearchCV\n",
        "from sklearn.preprocessing import StandardScaler\n",
        "from sklearn.discriminant_analysis import LinearDiscriminantAnalysis\n",
        "from sklearn.discriminant_analysis import QuadraticDiscriminantAnalysis\n",
        "from sklearn.metrics import confusion_matrix\n",
        "import seaborn as sns\n",
        "import numpy as np\n",
        "from sklearn import metrics\n",
        "import matplotlib.pyplot as plt"
      ]
    },
    {
      "cell_type": "markdown",
      "source": [
        "- carregando e tratando base"
      ],
      "metadata": {
        "id": "NpSLNtS4f76G"
      }
    },
    {
      "cell_type": "code",
      "source": [
        "dados = pd.read_csv('pokemon.csv')\n",
        "dados.head()"
      ],
      "metadata": {
        "colab": {
          "base_uri": "https://localhost:8080/",
          "height": 446
        },
        "id": "EyLeT1aRgpTZ",
        "outputId": "ea62fbd5-5bfa-4d89-b0aa-6a756daf7071"
      },
      "execution_count": 2,
      "outputs": [
        {
          "output_type": "execute_result",
          "data": {
            "text/plain": [
              "   pokemon_id pokemon_name  base_attack  base_defense  base_stamina  \\\n",
              "0           1    Bulbasaur          118           111           128   \n",
              "1           2      Ivysaur          151           143           155   \n",
              "2           3     Venusaur          198           189           190   \n",
              "3           4   Charmander          116            93           118   \n",
              "4           5   Charmeleon          158           126           151   \n",
              "\n",
              "                  type    rarity  \\\n",
              "0  ['Grass', 'Poison']  Standard   \n",
              "1  ['Grass', 'Poison']  Standard   \n",
              "2  ['Grass', 'Poison']  Standard   \n",
              "3             ['Fire']  Standard   \n",
              "4             ['Fire']  Standard   \n",
              "\n",
              "                                     charged_moves  \\\n",
              "0       ['Sludge Bomb', 'Seed Bomb', 'Power Whip']   \n",
              "1      ['Sludge Bomb', 'Solar Beam', 'Power Whip']   \n",
              "2  ['Sludge Bomb', 'Petal Blizzard', 'Solar Beam']   \n",
              "3  ['Flame Charge', 'Flame Burst', 'Flamethrower']   \n",
              "4    ['Fire Punch', 'Flame Burst', 'Flamethrower']   \n",
              "\n",
              "                    fast_moves  candy_required  ...  base_flee_rate  \\\n",
              "0      ['Vine Whip', 'Tackle']             NaN  ...            -1.0   \n",
              "1  ['Razor Leaf', 'Vine Whip']            25.0  ...            -1.0   \n",
              "2  ['Razor Leaf', 'Vine Whip']           100.0  ...            -1.0   \n",
              "3         ['Ember', 'Scratch']             NaN  ...            -1.0   \n",
              "4       ['Ember', 'Fire Fang']            25.0  ...            -1.0   \n",
              "\n",
              "   dodge_probability  max_pokemon_action_frequency  \\\n",
              "0               0.15                           1.6   \n",
              "1               0.15                           1.6   \n",
              "2               0.15                           1.6   \n",
              "3               0.15                           1.6   \n",
              "4               0.15                           1.6   \n",
              "\n",
              "   min_pokemon_action_frequency  found_egg  found_evolution  found_wild  \\\n",
              "0                           0.2       True            False        True   \n",
              "1                           0.2      False             True        True   \n",
              "2                           0.2      False             True        True   \n",
              "3                           0.2       True            False        True   \n",
              "4                           0.2      False             True        True   \n",
              "\n",
              "   found_research found_raid found_photobomb  \n",
              "0            True       True            True  \n",
              "1            True       True            True  \n",
              "2            True       True            True  \n",
              "3            True       True            True  \n",
              "4            True       True            True  \n",
              "\n",
              "[5 rows x 24 columns]"
            ],
            "text/html": [
              "\n",
              "  <div id=\"df-396697d4-4a59-4216-b294-c22eb69e2dae\" class=\"colab-df-container\">\n",
              "    <div>\n",
              "<style scoped>\n",
              "    .dataframe tbody tr th:only-of-type {\n",
              "        vertical-align: middle;\n",
              "    }\n",
              "\n",
              "    .dataframe tbody tr th {\n",
              "        vertical-align: top;\n",
              "    }\n",
              "\n",
              "    .dataframe thead th {\n",
              "        text-align: right;\n",
              "    }\n",
              "</style>\n",
              "<table border=\"1\" class=\"dataframe\">\n",
              "  <thead>\n",
              "    <tr style=\"text-align: right;\">\n",
              "      <th></th>\n",
              "      <th>pokemon_id</th>\n",
              "      <th>pokemon_name</th>\n",
              "      <th>base_attack</th>\n",
              "      <th>base_defense</th>\n",
              "      <th>base_stamina</th>\n",
              "      <th>type</th>\n",
              "      <th>rarity</th>\n",
              "      <th>charged_moves</th>\n",
              "      <th>fast_moves</th>\n",
              "      <th>candy_required</th>\n",
              "      <th>...</th>\n",
              "      <th>base_flee_rate</th>\n",
              "      <th>dodge_probability</th>\n",
              "      <th>max_pokemon_action_frequency</th>\n",
              "      <th>min_pokemon_action_frequency</th>\n",
              "      <th>found_egg</th>\n",
              "      <th>found_evolution</th>\n",
              "      <th>found_wild</th>\n",
              "      <th>found_research</th>\n",
              "      <th>found_raid</th>\n",
              "      <th>found_photobomb</th>\n",
              "    </tr>\n",
              "  </thead>\n",
              "  <tbody>\n",
              "    <tr>\n",
              "      <th>0</th>\n",
              "      <td>1</td>\n",
              "      <td>Bulbasaur</td>\n",
              "      <td>118</td>\n",
              "      <td>111</td>\n",
              "      <td>128</td>\n",
              "      <td>['Grass', 'Poison']</td>\n",
              "      <td>Standard</td>\n",
              "      <td>['Sludge Bomb', 'Seed Bomb', 'Power Whip']</td>\n",
              "      <td>['Vine Whip', 'Tackle']</td>\n",
              "      <td>NaN</td>\n",
              "      <td>...</td>\n",
              "      <td>-1.0</td>\n",
              "      <td>0.15</td>\n",
              "      <td>1.6</td>\n",
              "      <td>0.2</td>\n",
              "      <td>True</td>\n",
              "      <td>False</td>\n",
              "      <td>True</td>\n",
              "      <td>True</td>\n",
              "      <td>True</td>\n",
              "      <td>True</td>\n",
              "    </tr>\n",
              "    <tr>\n",
              "      <th>1</th>\n",
              "      <td>2</td>\n",
              "      <td>Ivysaur</td>\n",
              "      <td>151</td>\n",
              "      <td>143</td>\n",
              "      <td>155</td>\n",
              "      <td>['Grass', 'Poison']</td>\n",
              "      <td>Standard</td>\n",
              "      <td>['Sludge Bomb', 'Solar Beam', 'Power Whip']</td>\n",
              "      <td>['Razor Leaf', 'Vine Whip']</td>\n",
              "      <td>25.0</td>\n",
              "      <td>...</td>\n",
              "      <td>-1.0</td>\n",
              "      <td>0.15</td>\n",
              "      <td>1.6</td>\n",
              "      <td>0.2</td>\n",
              "      <td>False</td>\n",
              "      <td>True</td>\n",
              "      <td>True</td>\n",
              "      <td>True</td>\n",
              "      <td>True</td>\n",
              "      <td>True</td>\n",
              "    </tr>\n",
              "    <tr>\n",
              "      <th>2</th>\n",
              "      <td>3</td>\n",
              "      <td>Venusaur</td>\n",
              "      <td>198</td>\n",
              "      <td>189</td>\n",
              "      <td>190</td>\n",
              "      <td>['Grass', 'Poison']</td>\n",
              "      <td>Standard</td>\n",
              "      <td>['Sludge Bomb', 'Petal Blizzard', 'Solar Beam']</td>\n",
              "      <td>['Razor Leaf', 'Vine Whip']</td>\n",
              "      <td>100.0</td>\n",
              "      <td>...</td>\n",
              "      <td>-1.0</td>\n",
              "      <td>0.15</td>\n",
              "      <td>1.6</td>\n",
              "      <td>0.2</td>\n",
              "      <td>False</td>\n",
              "      <td>True</td>\n",
              "      <td>True</td>\n",
              "      <td>True</td>\n",
              "      <td>True</td>\n",
              "      <td>True</td>\n",
              "    </tr>\n",
              "    <tr>\n",
              "      <th>3</th>\n",
              "      <td>4</td>\n",
              "      <td>Charmander</td>\n",
              "      <td>116</td>\n",
              "      <td>93</td>\n",
              "      <td>118</td>\n",
              "      <td>['Fire']</td>\n",
              "      <td>Standard</td>\n",
              "      <td>['Flame Charge', 'Flame Burst', 'Flamethrower']</td>\n",
              "      <td>['Ember', 'Scratch']</td>\n",
              "      <td>NaN</td>\n",
              "      <td>...</td>\n",
              "      <td>-1.0</td>\n",
              "      <td>0.15</td>\n",
              "      <td>1.6</td>\n",
              "      <td>0.2</td>\n",
              "      <td>True</td>\n",
              "      <td>False</td>\n",
              "      <td>True</td>\n",
              "      <td>True</td>\n",
              "      <td>True</td>\n",
              "      <td>True</td>\n",
              "    </tr>\n",
              "    <tr>\n",
              "      <th>4</th>\n",
              "      <td>5</td>\n",
              "      <td>Charmeleon</td>\n",
              "      <td>158</td>\n",
              "      <td>126</td>\n",
              "      <td>151</td>\n",
              "      <td>['Fire']</td>\n",
              "      <td>Standard</td>\n",
              "      <td>['Fire Punch', 'Flame Burst', 'Flamethrower']</td>\n",
              "      <td>['Ember', 'Fire Fang']</td>\n",
              "      <td>25.0</td>\n",
              "      <td>...</td>\n",
              "      <td>-1.0</td>\n",
              "      <td>0.15</td>\n",
              "      <td>1.6</td>\n",
              "      <td>0.2</td>\n",
              "      <td>False</td>\n",
              "      <td>True</td>\n",
              "      <td>True</td>\n",
              "      <td>True</td>\n",
              "      <td>True</td>\n",
              "      <td>True</td>\n",
              "    </tr>\n",
              "  </tbody>\n",
              "</table>\n",
              "<p>5 rows × 24 columns</p>\n",
              "</div>\n",
              "    <div class=\"colab-df-buttons\">\n",
              "\n",
              "  <div class=\"colab-df-container\">\n",
              "    <button class=\"colab-df-convert\" onclick=\"convertToInteractive('df-396697d4-4a59-4216-b294-c22eb69e2dae')\"\n",
              "            title=\"Convert this dataframe to an interactive table.\"\n",
              "            style=\"display:none;\">\n",
              "\n",
              "  <svg xmlns=\"http://www.w3.org/2000/svg\" height=\"24px\" viewBox=\"0 -960 960 960\">\n",
              "    <path d=\"M120-120v-720h720v720H120Zm60-500h600v-160H180v160Zm220 220h160v-160H400v160Zm0 220h160v-160H400v160ZM180-400h160v-160H180v160Zm440 0h160v-160H620v160ZM180-180h160v-160H180v160Zm440 0h160v-160H620v160Z\"/>\n",
              "  </svg>\n",
              "    </button>\n",
              "\n",
              "  <style>\n",
              "    .colab-df-container {\n",
              "      display:flex;\n",
              "      gap: 12px;\n",
              "    }\n",
              "\n",
              "    .colab-df-convert {\n",
              "      background-color: #E8F0FE;\n",
              "      border: none;\n",
              "      border-radius: 50%;\n",
              "      cursor: pointer;\n",
              "      display: none;\n",
              "      fill: #1967D2;\n",
              "      height: 32px;\n",
              "      padding: 0 0 0 0;\n",
              "      width: 32px;\n",
              "    }\n",
              "\n",
              "    .colab-df-convert:hover {\n",
              "      background-color: #E2EBFA;\n",
              "      box-shadow: 0px 1px 2px rgba(60, 64, 67, 0.3), 0px 1px 3px 1px rgba(60, 64, 67, 0.15);\n",
              "      fill: #174EA6;\n",
              "    }\n",
              "\n",
              "    .colab-df-buttons div {\n",
              "      margin-bottom: 4px;\n",
              "    }\n",
              "\n",
              "    [theme=dark] .colab-df-convert {\n",
              "      background-color: #3B4455;\n",
              "      fill: #D2E3FC;\n",
              "    }\n",
              "\n",
              "    [theme=dark] .colab-df-convert:hover {\n",
              "      background-color: #434B5C;\n",
              "      box-shadow: 0px 1px 3px 1px rgba(0, 0, 0, 0.15);\n",
              "      filter: drop-shadow(0px 1px 2px rgba(0, 0, 0, 0.3));\n",
              "      fill: #FFFFFF;\n",
              "    }\n",
              "  </style>\n",
              "\n",
              "    <script>\n",
              "      const buttonEl =\n",
              "        document.querySelector('#df-396697d4-4a59-4216-b294-c22eb69e2dae button.colab-df-convert');\n",
              "      buttonEl.style.display =\n",
              "        google.colab.kernel.accessAllowed ? 'block' : 'none';\n",
              "\n",
              "      async function convertToInteractive(key) {\n",
              "        const element = document.querySelector('#df-396697d4-4a59-4216-b294-c22eb69e2dae');\n",
              "        const dataTable =\n",
              "          await google.colab.kernel.invokeFunction('convertToInteractive',\n",
              "                                                    [key], {});\n",
              "        if (!dataTable) return;\n",
              "\n",
              "        const docLinkHtml = 'Like what you see? Visit the ' +\n",
              "          '<a target=\"_blank\" href=https://colab.research.google.com/notebooks/data_table.ipynb>data table notebook</a>'\n",
              "          + ' to learn more about interactive tables.';\n",
              "        element.innerHTML = '';\n",
              "        dataTable['output_type'] = 'display_data';\n",
              "        await google.colab.output.renderOutput(dataTable, element);\n",
              "        const docLink = document.createElement('div');\n",
              "        docLink.innerHTML = docLinkHtml;\n",
              "        element.appendChild(docLink);\n",
              "      }\n",
              "    </script>\n",
              "  </div>\n",
              "\n",
              "\n",
              "<div id=\"df-823b1132-488d-48d5-b1c6-46e638a4bb39\">\n",
              "  <button class=\"colab-df-quickchart\" onclick=\"quickchart('df-823b1132-488d-48d5-b1c6-46e638a4bb39')\"\n",
              "            title=\"Suggest charts\"\n",
              "            style=\"display:none;\">\n",
              "\n",
              "<svg xmlns=\"http://www.w3.org/2000/svg\" height=\"24px\"viewBox=\"0 0 24 24\"\n",
              "     width=\"24px\">\n",
              "    <g>\n",
              "        <path d=\"M19 3H5c-1.1 0-2 .9-2 2v14c0 1.1.9 2 2 2h14c1.1 0 2-.9 2-2V5c0-1.1-.9-2-2-2zM9 17H7v-7h2v7zm4 0h-2V7h2v10zm4 0h-2v-4h2v4z\"/>\n",
              "    </g>\n",
              "</svg>\n",
              "  </button>\n",
              "\n",
              "<style>\n",
              "  .colab-df-quickchart {\n",
              "      --bg-color: #E8F0FE;\n",
              "      --fill-color: #1967D2;\n",
              "      --hover-bg-color: #E2EBFA;\n",
              "      --hover-fill-color: #174EA6;\n",
              "      --disabled-fill-color: #AAA;\n",
              "      --disabled-bg-color: #DDD;\n",
              "  }\n",
              "\n",
              "  [theme=dark] .colab-df-quickchart {\n",
              "      --bg-color: #3B4455;\n",
              "      --fill-color: #D2E3FC;\n",
              "      --hover-bg-color: #434B5C;\n",
              "      --hover-fill-color: #FFFFFF;\n",
              "      --disabled-bg-color: #3B4455;\n",
              "      --disabled-fill-color: #666;\n",
              "  }\n",
              "\n",
              "  .colab-df-quickchart {\n",
              "    background-color: var(--bg-color);\n",
              "    border: none;\n",
              "    border-radius: 50%;\n",
              "    cursor: pointer;\n",
              "    display: none;\n",
              "    fill: var(--fill-color);\n",
              "    height: 32px;\n",
              "    padding: 0;\n",
              "    width: 32px;\n",
              "  }\n",
              "\n",
              "  .colab-df-quickchart:hover {\n",
              "    background-color: var(--hover-bg-color);\n",
              "    box-shadow: 0 1px 2px rgba(60, 64, 67, 0.3), 0 1px 3px 1px rgba(60, 64, 67, 0.15);\n",
              "    fill: var(--button-hover-fill-color);\n",
              "  }\n",
              "\n",
              "  .colab-df-quickchart-complete:disabled,\n",
              "  .colab-df-quickchart-complete:disabled:hover {\n",
              "    background-color: var(--disabled-bg-color);\n",
              "    fill: var(--disabled-fill-color);\n",
              "    box-shadow: none;\n",
              "  }\n",
              "\n",
              "  .colab-df-spinner {\n",
              "    border: 2px solid var(--fill-color);\n",
              "    border-color: transparent;\n",
              "    border-bottom-color: var(--fill-color);\n",
              "    animation:\n",
              "      spin 1s steps(1) infinite;\n",
              "  }\n",
              "\n",
              "  @keyframes spin {\n",
              "    0% {\n",
              "      border-color: transparent;\n",
              "      border-bottom-color: var(--fill-color);\n",
              "      border-left-color: var(--fill-color);\n",
              "    }\n",
              "    20% {\n",
              "      border-color: transparent;\n",
              "      border-left-color: var(--fill-color);\n",
              "      border-top-color: var(--fill-color);\n",
              "    }\n",
              "    30% {\n",
              "      border-color: transparent;\n",
              "      border-left-color: var(--fill-color);\n",
              "      border-top-color: var(--fill-color);\n",
              "      border-right-color: var(--fill-color);\n",
              "    }\n",
              "    40% {\n",
              "      border-color: transparent;\n",
              "      border-right-color: var(--fill-color);\n",
              "      border-top-color: var(--fill-color);\n",
              "    }\n",
              "    60% {\n",
              "      border-color: transparent;\n",
              "      border-right-color: var(--fill-color);\n",
              "    }\n",
              "    80% {\n",
              "      border-color: transparent;\n",
              "      border-right-color: var(--fill-color);\n",
              "      border-bottom-color: var(--fill-color);\n",
              "    }\n",
              "    90% {\n",
              "      border-color: transparent;\n",
              "      border-bottom-color: var(--fill-color);\n",
              "    }\n",
              "  }\n",
              "</style>\n",
              "\n",
              "  <script>\n",
              "    async function quickchart(key) {\n",
              "      const quickchartButtonEl =\n",
              "        document.querySelector('#' + key + ' button');\n",
              "      quickchartButtonEl.disabled = true;  // To prevent multiple clicks.\n",
              "      quickchartButtonEl.classList.add('colab-df-spinner');\n",
              "      try {\n",
              "        const charts = await google.colab.kernel.invokeFunction(\n",
              "            'suggestCharts', [key], {});\n",
              "      } catch (error) {\n",
              "        console.error('Error during call to suggestCharts:', error);\n",
              "      }\n",
              "      quickchartButtonEl.classList.remove('colab-df-spinner');\n",
              "      quickchartButtonEl.classList.add('colab-df-quickchart-complete');\n",
              "    }\n",
              "    (() => {\n",
              "      let quickchartButtonEl =\n",
              "        document.querySelector('#df-823b1132-488d-48d5-b1c6-46e638a4bb39 button');\n",
              "      quickchartButtonEl.style.display =\n",
              "        google.colab.kernel.accessAllowed ? 'block' : 'none';\n",
              "    })();\n",
              "  </script>\n",
              "</div>\n",
              "\n",
              "    </div>\n",
              "  </div>\n"
            ],
            "application/vnd.google.colaboratory.intrinsic+json": {
              "type": "dataframe",
              "variable_name": "dados"
            }
          },
          "metadata": {},
          "execution_count": 2
        }
      ]
    },
    {
      "cell_type": "code",
      "source": [
        "dados['rarity'].unique()"
      ],
      "metadata": {
        "colab": {
          "base_uri": "https://localhost:8080/"
        },
        "id": "hgkPsJqdjDl9",
        "outputId": "4c69fe4c-5ac8-4ef6-dbee-59358df64ee1"
      },
      "execution_count": 3,
      "outputs": [
        {
          "output_type": "execute_result",
          "data": {
            "text/plain": [
              "array(['Standard', 'Legendary', 'Mythic', 'Ultra beast'], dtype=object)"
            ]
          },
          "metadata": {},
          "execution_count": 3
        }
      ]
    },
    {
      "cell_type": "code",
      "source": [
        "dados['found_egg'] = dados.apply(lambda x: 1 if x['found_egg'] == True else 0, axis=1)\n",
        "dados['found_evolution'] = dados.apply(lambda x: 1 if x['found_evolution'] == True else 0, axis=1)\n",
        "dados['found_wild'] = dados.apply(lambda x: 1 if x['found_wild'] == True else 0, axis=1)\n",
        "dados['found_research'] = dados.apply(lambda x: 1 if x['found_research'] == True else 0, axis=1)\n",
        "dados['found_raid'] = dados.apply(lambda x: 1 if x['found_raid'] == True else 0, axis=1)\n",
        "dados['found_photobomb'] = dados.apply(lambda x: 1 if x['found_photobomb'] == True else 0, axis=1)\n",
        "dados['rarity'] = dados.apply(lambda x: 1 if x['rarity'] == \"Legendary\" else 0, axis =1)\n"
      ],
      "metadata": {
        "id": "PVaT9Dmqf8Kn"
      },
      "execution_count": 4,
      "outputs": []
    },
    {
      "cell_type": "code",
      "source": [
        "dados.isna().sum()"
      ],
      "metadata": {
        "colab": {
          "base_uri": "https://localhost:8080/",
          "height": 836
        },
        "id": "6iThQq7zpReJ",
        "outputId": "9797d18b-fa4a-4325-8b92-b229d3050d06"
      },
      "execution_count": 5,
      "outputs": [
        {
          "output_type": "execute_result",
          "data": {
            "text/plain": [
              "pokemon_id                        0\n",
              "pokemon_name                      0\n",
              "base_attack                       0\n",
              "base_defense                      0\n",
              "base_stamina                      0\n",
              "type                              0\n",
              "rarity                            0\n",
              "charged_moves                     0\n",
              "fast_moves                        0\n",
              "candy_required                  536\n",
              "distance                          0\n",
              "max_cp                            0\n",
              "attack_probability              103\n",
              "base_capture_rate               103\n",
              "base_flee_rate                  103\n",
              "dodge_probability               103\n",
              "max_pokemon_action_frequency    103\n",
              "min_pokemon_action_frequency    103\n",
              "found_egg                         0\n",
              "found_evolution                   0\n",
              "found_wild                        0\n",
              "found_research                    0\n",
              "found_raid                        0\n",
              "found_photobomb                   0\n",
              "dtype: int64"
            ],
            "text/html": [
              "<div>\n",
              "<style scoped>\n",
              "    .dataframe tbody tr th:only-of-type {\n",
              "        vertical-align: middle;\n",
              "    }\n",
              "\n",
              "    .dataframe tbody tr th {\n",
              "        vertical-align: top;\n",
              "    }\n",
              "\n",
              "    .dataframe thead th {\n",
              "        text-align: right;\n",
              "    }\n",
              "</style>\n",
              "<table border=\"1\" class=\"dataframe\">\n",
              "  <thead>\n",
              "    <tr style=\"text-align: right;\">\n",
              "      <th></th>\n",
              "      <th>0</th>\n",
              "    </tr>\n",
              "  </thead>\n",
              "  <tbody>\n",
              "    <tr>\n",
              "      <th>pokemon_id</th>\n",
              "      <td>0</td>\n",
              "    </tr>\n",
              "    <tr>\n",
              "      <th>pokemon_name</th>\n",
              "      <td>0</td>\n",
              "    </tr>\n",
              "    <tr>\n",
              "      <th>base_attack</th>\n",
              "      <td>0</td>\n",
              "    </tr>\n",
              "    <tr>\n",
              "      <th>base_defense</th>\n",
              "      <td>0</td>\n",
              "    </tr>\n",
              "    <tr>\n",
              "      <th>base_stamina</th>\n",
              "      <td>0</td>\n",
              "    </tr>\n",
              "    <tr>\n",
              "      <th>type</th>\n",
              "      <td>0</td>\n",
              "    </tr>\n",
              "    <tr>\n",
              "      <th>rarity</th>\n",
              "      <td>0</td>\n",
              "    </tr>\n",
              "    <tr>\n",
              "      <th>charged_moves</th>\n",
              "      <td>0</td>\n",
              "    </tr>\n",
              "    <tr>\n",
              "      <th>fast_moves</th>\n",
              "      <td>0</td>\n",
              "    </tr>\n",
              "    <tr>\n",
              "      <th>candy_required</th>\n",
              "      <td>536</td>\n",
              "    </tr>\n",
              "    <tr>\n",
              "      <th>distance</th>\n",
              "      <td>0</td>\n",
              "    </tr>\n",
              "    <tr>\n",
              "      <th>max_cp</th>\n",
              "      <td>0</td>\n",
              "    </tr>\n",
              "    <tr>\n",
              "      <th>attack_probability</th>\n",
              "      <td>103</td>\n",
              "    </tr>\n",
              "    <tr>\n",
              "      <th>base_capture_rate</th>\n",
              "      <td>103</td>\n",
              "    </tr>\n",
              "    <tr>\n",
              "      <th>base_flee_rate</th>\n",
              "      <td>103</td>\n",
              "    </tr>\n",
              "    <tr>\n",
              "      <th>dodge_probability</th>\n",
              "      <td>103</td>\n",
              "    </tr>\n",
              "    <tr>\n",
              "      <th>max_pokemon_action_frequency</th>\n",
              "      <td>103</td>\n",
              "    </tr>\n",
              "    <tr>\n",
              "      <th>min_pokemon_action_frequency</th>\n",
              "      <td>103</td>\n",
              "    </tr>\n",
              "    <tr>\n",
              "      <th>found_egg</th>\n",
              "      <td>0</td>\n",
              "    </tr>\n",
              "    <tr>\n",
              "      <th>found_evolution</th>\n",
              "      <td>0</td>\n",
              "    </tr>\n",
              "    <tr>\n",
              "      <th>found_wild</th>\n",
              "      <td>0</td>\n",
              "    </tr>\n",
              "    <tr>\n",
              "      <th>found_research</th>\n",
              "      <td>0</td>\n",
              "    </tr>\n",
              "    <tr>\n",
              "      <th>found_raid</th>\n",
              "      <td>0</td>\n",
              "    </tr>\n",
              "    <tr>\n",
              "      <th>found_photobomb</th>\n",
              "      <td>0</td>\n",
              "    </tr>\n",
              "  </tbody>\n",
              "</table>\n",
              "</div><br><label><b>dtype:</b> int64</label>"
            ]
          },
          "metadata": {},
          "execution_count": 5
        }
      ]
    },
    {
      "cell_type": "code",
      "source": [
        "dados= dados[['base_attack',\t'base_defense', 'base_stamina', 'base_flee_rate',\t'dodge_probability',\t'max_cp','max_pokemon_action_frequency',\t'min_pokemon_action_frequency',\t'found_egg',\t'found_evolution',\t'found_wild',\t'found_research',\t'found_raid',\t'found_photobomb', 'rarity', 'attack_probability', 'base_capture_rate', 'distance']]\n",
        "\n",
        "dados.dropna(inplace=True)\n",
        "dados.isna().sum()"
      ],
      "metadata": {
        "colab": {
          "base_uri": "https://localhost:8080/",
          "height": 739
        },
        "id": "CPS7jpampor4",
        "outputId": "c537d015-4e98-4ba3-e9fd-c605fed18d30"
      },
      "execution_count": 6,
      "outputs": [
        {
          "output_type": "stream",
          "name": "stderr",
          "text": [
            "<ipython-input-6-fa5fcd90ebee>:3: SettingWithCopyWarning: \n",
            "A value is trying to be set on a copy of a slice from a DataFrame\n",
            "\n",
            "See the caveats in the documentation: https://pandas.pydata.org/pandas-docs/stable/user_guide/indexing.html#returning-a-view-versus-a-copy\n",
            "  dados.dropna(inplace=True)\n"
          ]
        },
        {
          "output_type": "execute_result",
          "data": {
            "text/plain": [
              "base_attack                     0\n",
              "base_defense                    0\n",
              "base_stamina                    0\n",
              "base_flee_rate                  0\n",
              "dodge_probability               0\n",
              "max_cp                          0\n",
              "max_pokemon_action_frequency    0\n",
              "min_pokemon_action_frequency    0\n",
              "found_egg                       0\n",
              "found_evolution                 0\n",
              "found_wild                      0\n",
              "found_research                  0\n",
              "found_raid                      0\n",
              "found_photobomb                 0\n",
              "rarity                          0\n",
              "attack_probability              0\n",
              "base_capture_rate               0\n",
              "distance                        0\n",
              "dtype: int64"
            ],
            "text/html": [
              "<div>\n",
              "<style scoped>\n",
              "    .dataframe tbody tr th:only-of-type {\n",
              "        vertical-align: middle;\n",
              "    }\n",
              "\n",
              "    .dataframe tbody tr th {\n",
              "        vertical-align: top;\n",
              "    }\n",
              "\n",
              "    .dataframe thead th {\n",
              "        text-align: right;\n",
              "    }\n",
              "</style>\n",
              "<table border=\"1\" class=\"dataframe\">\n",
              "  <thead>\n",
              "    <tr style=\"text-align: right;\">\n",
              "      <th></th>\n",
              "      <th>0</th>\n",
              "    </tr>\n",
              "  </thead>\n",
              "  <tbody>\n",
              "    <tr>\n",
              "      <th>base_attack</th>\n",
              "      <td>0</td>\n",
              "    </tr>\n",
              "    <tr>\n",
              "      <th>base_defense</th>\n",
              "      <td>0</td>\n",
              "    </tr>\n",
              "    <tr>\n",
              "      <th>base_stamina</th>\n",
              "      <td>0</td>\n",
              "    </tr>\n",
              "    <tr>\n",
              "      <th>base_flee_rate</th>\n",
              "      <td>0</td>\n",
              "    </tr>\n",
              "    <tr>\n",
              "      <th>dodge_probability</th>\n",
              "      <td>0</td>\n",
              "    </tr>\n",
              "    <tr>\n",
              "      <th>max_cp</th>\n",
              "      <td>0</td>\n",
              "    </tr>\n",
              "    <tr>\n",
              "      <th>max_pokemon_action_frequency</th>\n",
              "      <td>0</td>\n",
              "    </tr>\n",
              "    <tr>\n",
              "      <th>min_pokemon_action_frequency</th>\n",
              "      <td>0</td>\n",
              "    </tr>\n",
              "    <tr>\n",
              "      <th>found_egg</th>\n",
              "      <td>0</td>\n",
              "    </tr>\n",
              "    <tr>\n",
              "      <th>found_evolution</th>\n",
              "      <td>0</td>\n",
              "    </tr>\n",
              "    <tr>\n",
              "      <th>found_wild</th>\n",
              "      <td>0</td>\n",
              "    </tr>\n",
              "    <tr>\n",
              "      <th>found_research</th>\n",
              "      <td>0</td>\n",
              "    </tr>\n",
              "    <tr>\n",
              "      <th>found_raid</th>\n",
              "      <td>0</td>\n",
              "    </tr>\n",
              "    <tr>\n",
              "      <th>found_photobomb</th>\n",
              "      <td>0</td>\n",
              "    </tr>\n",
              "    <tr>\n",
              "      <th>rarity</th>\n",
              "      <td>0</td>\n",
              "    </tr>\n",
              "    <tr>\n",
              "      <th>attack_probability</th>\n",
              "      <td>0</td>\n",
              "    </tr>\n",
              "    <tr>\n",
              "      <th>base_capture_rate</th>\n",
              "      <td>0</td>\n",
              "    </tr>\n",
              "    <tr>\n",
              "      <th>distance</th>\n",
              "      <td>0</td>\n",
              "    </tr>\n",
              "  </tbody>\n",
              "</table>\n",
              "</div><br><label><b>dtype:</b> int64</label>"
            ]
          },
          "metadata": {},
          "execution_count": 6
        }
      ]
    },
    {
      "cell_type": "markdown",
      "source": [
        "- iniciando modelos"
      ],
      "metadata": {
        "id": "MpPuEhoyf8QX"
      }
    },
    {
      "cell_type": "markdown",
      "source": [
        "- dt e rf com gridsearch"
      ],
      "metadata": {
        "id": "jhmBb9GAjuqY"
      }
    },
    {
      "cell_type": "code",
      "source": [
        "# separando X e Y\n",
        "x = dados.drop('rarity', axis=1)\n",
        "y = dados['rarity']"
      ],
      "metadata": {
        "id": "6H0-G_LUj0xo"
      },
      "execution_count": 7,
      "outputs": []
    },
    {
      "cell_type": "code",
      "source": [
        "dados.head()"
      ],
      "metadata": {
        "colab": {
          "base_uri": "https://localhost:8080/",
          "height": 226
        },
        "id": "5ZgWJuoVqRhk",
        "outputId": "cfb1abf0-63fb-4fca-e7f1-e1e5bb40ef2d"
      },
      "execution_count": 8,
      "outputs": [
        {
          "output_type": "execute_result",
          "data": {
            "text/plain": [
              "   base_attack  base_defense  base_stamina  base_flee_rate  dodge_probability  \\\n",
              "0          118           111           128            -1.0               0.15   \n",
              "1          151           143           155            -1.0               0.15   \n",
              "2          198           189           190            -1.0               0.15   \n",
              "3          116            93           118            -1.0               0.15   \n",
              "4          158           126           151            -1.0               0.15   \n",
              "\n",
              "   max_cp  max_pokemon_action_frequency  min_pokemon_action_frequency  \\\n",
              "0    1275                           1.6                           0.2   \n",
              "1    1943                           1.6                           0.2   \n",
              "2    3112                           1.6                           0.2   \n",
              "3    1121                           1.6                           0.2   \n",
              "4    1891                           1.6                           0.2   \n",
              "\n",
              "   found_egg  found_evolution  found_wild  found_research  found_raid  \\\n",
              "0          1                0           1               1           1   \n",
              "1          0                1           1               1           1   \n",
              "2          0                1           1               1           1   \n",
              "3          1                0           1               1           1   \n",
              "4          0                1           1               1           1   \n",
              "\n",
              "   found_photobomb  rarity  attack_probability  base_capture_rate  distance  \n",
              "0                1       0                 0.1               -1.0         3  \n",
              "1                1       0                 0.1               -1.0         3  \n",
              "2                1       0                 0.2               -1.0         3  \n",
              "3                1       0                 0.1               -1.0         3  \n",
              "4                1       0                 0.1               -1.0         3  "
            ],
            "text/html": [
              "\n",
              "  <div id=\"df-ab2e1cda-486d-47d9-aa99-fb453d36128d\" class=\"colab-df-container\">\n",
              "    <div>\n",
              "<style scoped>\n",
              "    .dataframe tbody tr th:only-of-type {\n",
              "        vertical-align: middle;\n",
              "    }\n",
              "\n",
              "    .dataframe tbody tr th {\n",
              "        vertical-align: top;\n",
              "    }\n",
              "\n",
              "    .dataframe thead th {\n",
              "        text-align: right;\n",
              "    }\n",
              "</style>\n",
              "<table border=\"1\" class=\"dataframe\">\n",
              "  <thead>\n",
              "    <tr style=\"text-align: right;\">\n",
              "      <th></th>\n",
              "      <th>base_attack</th>\n",
              "      <th>base_defense</th>\n",
              "      <th>base_stamina</th>\n",
              "      <th>base_flee_rate</th>\n",
              "      <th>dodge_probability</th>\n",
              "      <th>max_cp</th>\n",
              "      <th>max_pokemon_action_frequency</th>\n",
              "      <th>min_pokemon_action_frequency</th>\n",
              "      <th>found_egg</th>\n",
              "      <th>found_evolution</th>\n",
              "      <th>found_wild</th>\n",
              "      <th>found_research</th>\n",
              "      <th>found_raid</th>\n",
              "      <th>found_photobomb</th>\n",
              "      <th>rarity</th>\n",
              "      <th>attack_probability</th>\n",
              "      <th>base_capture_rate</th>\n",
              "      <th>distance</th>\n",
              "    </tr>\n",
              "  </thead>\n",
              "  <tbody>\n",
              "    <tr>\n",
              "      <th>0</th>\n",
              "      <td>118</td>\n",
              "      <td>111</td>\n",
              "      <td>128</td>\n",
              "      <td>-1.0</td>\n",
              "      <td>0.15</td>\n",
              "      <td>1275</td>\n",
              "      <td>1.6</td>\n",
              "      <td>0.2</td>\n",
              "      <td>1</td>\n",
              "      <td>0</td>\n",
              "      <td>1</td>\n",
              "      <td>1</td>\n",
              "      <td>1</td>\n",
              "      <td>1</td>\n",
              "      <td>0</td>\n",
              "      <td>0.1</td>\n",
              "      <td>-1.0</td>\n",
              "      <td>3</td>\n",
              "    </tr>\n",
              "    <tr>\n",
              "      <th>1</th>\n",
              "      <td>151</td>\n",
              "      <td>143</td>\n",
              "      <td>155</td>\n",
              "      <td>-1.0</td>\n",
              "      <td>0.15</td>\n",
              "      <td>1943</td>\n",
              "      <td>1.6</td>\n",
              "      <td>0.2</td>\n",
              "      <td>0</td>\n",
              "      <td>1</td>\n",
              "      <td>1</td>\n",
              "      <td>1</td>\n",
              "      <td>1</td>\n",
              "      <td>1</td>\n",
              "      <td>0</td>\n",
              "      <td>0.1</td>\n",
              "      <td>-1.0</td>\n",
              "      <td>3</td>\n",
              "    </tr>\n",
              "    <tr>\n",
              "      <th>2</th>\n",
              "      <td>198</td>\n",
              "      <td>189</td>\n",
              "      <td>190</td>\n",
              "      <td>-1.0</td>\n",
              "      <td>0.15</td>\n",
              "      <td>3112</td>\n",
              "      <td>1.6</td>\n",
              "      <td>0.2</td>\n",
              "      <td>0</td>\n",
              "      <td>1</td>\n",
              "      <td>1</td>\n",
              "      <td>1</td>\n",
              "      <td>1</td>\n",
              "      <td>1</td>\n",
              "      <td>0</td>\n",
              "      <td>0.2</td>\n",
              "      <td>-1.0</td>\n",
              "      <td>3</td>\n",
              "    </tr>\n",
              "    <tr>\n",
              "      <th>3</th>\n",
              "      <td>116</td>\n",
              "      <td>93</td>\n",
              "      <td>118</td>\n",
              "      <td>-1.0</td>\n",
              "      <td>0.15</td>\n",
              "      <td>1121</td>\n",
              "      <td>1.6</td>\n",
              "      <td>0.2</td>\n",
              "      <td>1</td>\n",
              "      <td>0</td>\n",
              "      <td>1</td>\n",
              "      <td>1</td>\n",
              "      <td>1</td>\n",
              "      <td>1</td>\n",
              "      <td>0</td>\n",
              "      <td>0.1</td>\n",
              "      <td>-1.0</td>\n",
              "      <td>3</td>\n",
              "    </tr>\n",
              "    <tr>\n",
              "      <th>4</th>\n",
              "      <td>158</td>\n",
              "      <td>126</td>\n",
              "      <td>151</td>\n",
              "      <td>-1.0</td>\n",
              "      <td>0.15</td>\n",
              "      <td>1891</td>\n",
              "      <td>1.6</td>\n",
              "      <td>0.2</td>\n",
              "      <td>0</td>\n",
              "      <td>1</td>\n",
              "      <td>1</td>\n",
              "      <td>1</td>\n",
              "      <td>1</td>\n",
              "      <td>1</td>\n",
              "      <td>0</td>\n",
              "      <td>0.1</td>\n",
              "      <td>-1.0</td>\n",
              "      <td>3</td>\n",
              "    </tr>\n",
              "  </tbody>\n",
              "</table>\n",
              "</div>\n",
              "    <div class=\"colab-df-buttons\">\n",
              "\n",
              "  <div class=\"colab-df-container\">\n",
              "    <button class=\"colab-df-convert\" onclick=\"convertToInteractive('df-ab2e1cda-486d-47d9-aa99-fb453d36128d')\"\n",
              "            title=\"Convert this dataframe to an interactive table.\"\n",
              "            style=\"display:none;\">\n",
              "\n",
              "  <svg xmlns=\"http://www.w3.org/2000/svg\" height=\"24px\" viewBox=\"0 -960 960 960\">\n",
              "    <path d=\"M120-120v-720h720v720H120Zm60-500h600v-160H180v160Zm220 220h160v-160H400v160Zm0 220h160v-160H400v160ZM180-400h160v-160H180v160Zm440 0h160v-160H620v160ZM180-180h160v-160H180v160Zm440 0h160v-160H620v160Z\"/>\n",
              "  </svg>\n",
              "    </button>\n",
              "\n",
              "  <style>\n",
              "    .colab-df-container {\n",
              "      display:flex;\n",
              "      gap: 12px;\n",
              "    }\n",
              "\n",
              "    .colab-df-convert {\n",
              "      background-color: #E8F0FE;\n",
              "      border: none;\n",
              "      border-radius: 50%;\n",
              "      cursor: pointer;\n",
              "      display: none;\n",
              "      fill: #1967D2;\n",
              "      height: 32px;\n",
              "      padding: 0 0 0 0;\n",
              "      width: 32px;\n",
              "    }\n",
              "\n",
              "    .colab-df-convert:hover {\n",
              "      background-color: #E2EBFA;\n",
              "      box-shadow: 0px 1px 2px rgba(60, 64, 67, 0.3), 0px 1px 3px 1px rgba(60, 64, 67, 0.15);\n",
              "      fill: #174EA6;\n",
              "    }\n",
              "\n",
              "    .colab-df-buttons div {\n",
              "      margin-bottom: 4px;\n",
              "    }\n",
              "\n",
              "    [theme=dark] .colab-df-convert {\n",
              "      background-color: #3B4455;\n",
              "      fill: #D2E3FC;\n",
              "    }\n",
              "\n",
              "    [theme=dark] .colab-df-convert:hover {\n",
              "      background-color: #434B5C;\n",
              "      box-shadow: 0px 1px 3px 1px rgba(0, 0, 0, 0.15);\n",
              "      filter: drop-shadow(0px 1px 2px rgba(0, 0, 0, 0.3));\n",
              "      fill: #FFFFFF;\n",
              "    }\n",
              "  </style>\n",
              "\n",
              "    <script>\n",
              "      const buttonEl =\n",
              "        document.querySelector('#df-ab2e1cda-486d-47d9-aa99-fb453d36128d button.colab-df-convert');\n",
              "      buttonEl.style.display =\n",
              "        google.colab.kernel.accessAllowed ? 'block' : 'none';\n",
              "\n",
              "      async function convertToInteractive(key) {\n",
              "        const element = document.querySelector('#df-ab2e1cda-486d-47d9-aa99-fb453d36128d');\n",
              "        const dataTable =\n",
              "          await google.colab.kernel.invokeFunction('convertToInteractive',\n",
              "                                                    [key], {});\n",
              "        if (!dataTable) return;\n",
              "\n",
              "        const docLinkHtml = 'Like what you see? Visit the ' +\n",
              "          '<a target=\"_blank\" href=https://colab.research.google.com/notebooks/data_table.ipynb>data table notebook</a>'\n",
              "          + ' to learn more about interactive tables.';\n",
              "        element.innerHTML = '';\n",
              "        dataTable['output_type'] = 'display_data';\n",
              "        await google.colab.output.renderOutput(dataTable, element);\n",
              "        const docLink = document.createElement('div');\n",
              "        docLink.innerHTML = docLinkHtml;\n",
              "        element.appendChild(docLink);\n",
              "      }\n",
              "    </script>\n",
              "  </div>\n",
              "\n",
              "\n",
              "<div id=\"df-0bc9c8c1-a2ab-4603-8108-0bd3d8083729\">\n",
              "  <button class=\"colab-df-quickchart\" onclick=\"quickchart('df-0bc9c8c1-a2ab-4603-8108-0bd3d8083729')\"\n",
              "            title=\"Suggest charts\"\n",
              "            style=\"display:none;\">\n",
              "\n",
              "<svg xmlns=\"http://www.w3.org/2000/svg\" height=\"24px\"viewBox=\"0 0 24 24\"\n",
              "     width=\"24px\">\n",
              "    <g>\n",
              "        <path d=\"M19 3H5c-1.1 0-2 .9-2 2v14c0 1.1.9 2 2 2h14c1.1 0 2-.9 2-2V5c0-1.1-.9-2-2-2zM9 17H7v-7h2v7zm4 0h-2V7h2v10zm4 0h-2v-4h2v4z\"/>\n",
              "    </g>\n",
              "</svg>\n",
              "  </button>\n",
              "\n",
              "<style>\n",
              "  .colab-df-quickchart {\n",
              "      --bg-color: #E8F0FE;\n",
              "      --fill-color: #1967D2;\n",
              "      --hover-bg-color: #E2EBFA;\n",
              "      --hover-fill-color: #174EA6;\n",
              "      --disabled-fill-color: #AAA;\n",
              "      --disabled-bg-color: #DDD;\n",
              "  }\n",
              "\n",
              "  [theme=dark] .colab-df-quickchart {\n",
              "      --bg-color: #3B4455;\n",
              "      --fill-color: #D2E3FC;\n",
              "      --hover-bg-color: #434B5C;\n",
              "      --hover-fill-color: #FFFFFF;\n",
              "      --disabled-bg-color: #3B4455;\n",
              "      --disabled-fill-color: #666;\n",
              "  }\n",
              "\n",
              "  .colab-df-quickchart {\n",
              "    background-color: var(--bg-color);\n",
              "    border: none;\n",
              "    border-radius: 50%;\n",
              "    cursor: pointer;\n",
              "    display: none;\n",
              "    fill: var(--fill-color);\n",
              "    height: 32px;\n",
              "    padding: 0;\n",
              "    width: 32px;\n",
              "  }\n",
              "\n",
              "  .colab-df-quickchart:hover {\n",
              "    background-color: var(--hover-bg-color);\n",
              "    box-shadow: 0 1px 2px rgba(60, 64, 67, 0.3), 0 1px 3px 1px rgba(60, 64, 67, 0.15);\n",
              "    fill: var(--button-hover-fill-color);\n",
              "  }\n",
              "\n",
              "  .colab-df-quickchart-complete:disabled,\n",
              "  .colab-df-quickchart-complete:disabled:hover {\n",
              "    background-color: var(--disabled-bg-color);\n",
              "    fill: var(--disabled-fill-color);\n",
              "    box-shadow: none;\n",
              "  }\n",
              "\n",
              "  .colab-df-spinner {\n",
              "    border: 2px solid var(--fill-color);\n",
              "    border-color: transparent;\n",
              "    border-bottom-color: var(--fill-color);\n",
              "    animation:\n",
              "      spin 1s steps(1) infinite;\n",
              "  }\n",
              "\n",
              "  @keyframes spin {\n",
              "    0% {\n",
              "      border-color: transparent;\n",
              "      border-bottom-color: var(--fill-color);\n",
              "      border-left-color: var(--fill-color);\n",
              "    }\n",
              "    20% {\n",
              "      border-color: transparent;\n",
              "      border-left-color: var(--fill-color);\n",
              "      border-top-color: var(--fill-color);\n",
              "    }\n",
              "    30% {\n",
              "      border-color: transparent;\n",
              "      border-left-color: var(--fill-color);\n",
              "      border-top-color: var(--fill-color);\n",
              "      border-right-color: var(--fill-color);\n",
              "    }\n",
              "    40% {\n",
              "      border-color: transparent;\n",
              "      border-right-color: var(--fill-color);\n",
              "      border-top-color: var(--fill-color);\n",
              "    }\n",
              "    60% {\n",
              "      border-color: transparent;\n",
              "      border-right-color: var(--fill-color);\n",
              "    }\n",
              "    80% {\n",
              "      border-color: transparent;\n",
              "      border-right-color: var(--fill-color);\n",
              "      border-bottom-color: var(--fill-color);\n",
              "    }\n",
              "    90% {\n",
              "      border-color: transparent;\n",
              "      border-bottom-color: var(--fill-color);\n",
              "    }\n",
              "  }\n",
              "</style>\n",
              "\n",
              "  <script>\n",
              "    async function quickchart(key) {\n",
              "      const quickchartButtonEl =\n",
              "        document.querySelector('#' + key + ' button');\n",
              "      quickchartButtonEl.disabled = true;  // To prevent multiple clicks.\n",
              "      quickchartButtonEl.classList.add('colab-df-spinner');\n",
              "      try {\n",
              "        const charts = await google.colab.kernel.invokeFunction(\n",
              "            'suggestCharts', [key], {});\n",
              "      } catch (error) {\n",
              "        console.error('Error during call to suggestCharts:', error);\n",
              "      }\n",
              "      quickchartButtonEl.classList.remove('colab-df-spinner');\n",
              "      quickchartButtonEl.classList.add('colab-df-quickchart-complete');\n",
              "    }\n",
              "    (() => {\n",
              "      let quickchartButtonEl =\n",
              "        document.querySelector('#df-0bc9c8c1-a2ab-4603-8108-0bd3d8083729 button');\n",
              "      quickchartButtonEl.style.display =\n",
              "        google.colab.kernel.accessAllowed ? 'block' : 'none';\n",
              "    })();\n",
              "  </script>\n",
              "</div>\n",
              "\n",
              "    </div>\n",
              "  </div>\n"
            ],
            "application/vnd.google.colaboratory.intrinsic+json": {
              "type": "dataframe",
              "variable_name": "dados",
              "summary": "{\n  \"name\": \"dados\",\n  \"rows\": 904,\n  \"fields\": [\n    {\n      \"column\": \"base_attack\",\n      \"properties\": {\n        \"dtype\": \"number\",\n        \"std\": 58,\n        \"min\": 0,\n        \"max\": 414,\n        \"num_unique_values\": 238,\n        \"samples\": [\n          77,\n          85,\n          260\n        ],\n        \"semantic_type\": \"\",\n        \"description\": \"\"\n      }\n    },\n    {\n      \"column\": \"base_defense\",\n      \"properties\": {\n        \"dtype\": \"number\",\n        \"std\": 52,\n        \"min\": 0,\n        \"max\": 505,\n        \"num_unique_values\": 207,\n        \"samples\": [\n          212,\n          73,\n          256\n        ],\n        \"semantic_type\": \"\",\n        \"description\": \"\"\n      }\n    },\n    {\n      \"column\": \"base_stamina\",\n      \"properties\": {\n        \"dtype\": \"number\",\n        \"std\": 47,\n        \"min\": 0,\n        \"max\": 496,\n        \"num_unique_values\": 113,\n        \"samples\": [\n          189,\n          151,\n          214\n        ],\n        \"semantic_type\": \"\",\n        \"description\": \"\"\n      }\n    },\n    {\n      \"column\": \"base_flee_rate\",\n      \"properties\": {\n        \"dtype\": \"number\",\n        \"std\": 0.0,\n        \"min\": -1.0,\n        \"max\": -1.0,\n        \"num_unique_values\": 1,\n        \"samples\": [\n          -1.0\n        ],\n        \"semantic_type\": \"\",\n        \"description\": \"\"\n      }\n    },\n    {\n      \"column\": \"dodge_probability\",\n      \"properties\": {\n        \"dtype\": \"number\",\n        \"std\": 0.06260898532921438,\n        \"min\": 0.0,\n        \"max\": 1.0,\n        \"num_unique_values\": 12,\n        \"samples\": [\n          0.45\n        ],\n        \"semantic_type\": \"\",\n        \"description\": \"\"\n      }\n    },\n    {\n      \"column\": \"max_cp\",\n      \"properties\": {\n        \"dtype\": \"number\",\n        \"std\": 1101,\n        \"min\": 16,\n        \"max\": 9366,\n        \"num_unique_values\": 768,\n        \"samples\": [\n          2622\n        ],\n        \"semantic_type\": \"\",\n        \"description\": \"\"\n      }\n    },\n    {\n      \"column\": \"max_pokemon_action_frequency\",\n      \"properties\": {\n        \"dtype\": \"number\",\n        \"std\": 0.02993355473569827,\n        \"min\": 1.6,\n        \"max\": 2.5,\n        \"num_unique_values\": 2,\n        \"samples\": [\n          2.5\n        ],\n        \"semantic_type\": \"\",\n        \"description\": \"\"\n      }\n    },\n    {\n      \"column\": \"min_pokemon_action_frequency\",\n      \"properties\": {\n        \"dtype\": \"number\",\n        \"std\": 0.05814138034978134,\n        \"min\": 0.2,\n        \"max\": 1.1,\n        \"num_unique_values\": 4,\n        \"samples\": [\n          0.9\n        ],\n        \"semantic_type\": \"\",\n        \"description\": \"\"\n      }\n    },\n    {\n      \"column\": \"found_egg\",\n      \"properties\": {\n        \"dtype\": \"number\",\n        \"std\": 0,\n        \"min\": 0,\n        \"max\": 1,\n        \"num_unique_values\": 2,\n        \"samples\": [\n          0\n        ],\n        \"semantic_type\": \"\",\n        \"description\": \"\"\n      }\n    },\n    {\n      \"column\": \"found_evolution\",\n      \"properties\": {\n        \"dtype\": \"number\",\n        \"std\": 0,\n        \"min\": 0,\n        \"max\": 1,\n        \"num_unique_values\": 2,\n        \"samples\": [\n          1\n        ],\n        \"semantic_type\": \"\",\n        \"description\": \"\"\n      }\n    },\n    {\n      \"column\": \"found_wild\",\n      \"properties\": {\n        \"dtype\": \"number\",\n        \"std\": 0,\n        \"min\": 0,\n        \"max\": 1,\n        \"num_unique_values\": 2,\n        \"samples\": [\n          0\n        ],\n        \"semantic_type\": \"\",\n        \"description\": \"\"\n      }\n    },\n    {\n      \"column\": \"found_research\",\n      \"properties\": {\n        \"dtype\": \"number\",\n        \"std\": 0,\n        \"min\": 0,\n        \"max\": 1,\n        \"num_unique_values\": 2,\n        \"samples\": [\n          0\n        ],\n        \"semantic_type\": \"\",\n        \"description\": \"\"\n      }\n    },\n    {\n      \"column\": \"found_raid\",\n      \"properties\": {\n        \"dtype\": \"number\",\n        \"std\": 0,\n        \"min\": 0,\n        \"max\": 1,\n        \"num_unique_values\": 2,\n        \"samples\": [\n          0\n        ],\n        \"semantic_type\": \"\",\n        \"description\": \"\"\n      }\n    },\n    {\n      \"column\": \"found_photobomb\",\n      \"properties\": {\n        \"dtype\": \"number\",\n        \"std\": 0,\n        \"min\": 0,\n        \"max\": 1,\n        \"num_unique_values\": 2,\n        \"samples\": [\n          0\n        ],\n        \"semantic_type\": \"\",\n        \"description\": \"\"\n      }\n    },\n    {\n      \"column\": \"rarity\",\n      \"properties\": {\n        \"dtype\": \"number\",\n        \"std\": 0,\n        \"min\": 0,\n        \"max\": 1,\n        \"num_unique_values\": 2,\n        \"samples\": [\n          1\n        ],\n        \"semantic_type\": \"\",\n        \"description\": \"\"\n      }\n    },\n    {\n      \"column\": \"attack_probability\",\n      \"properties\": {\n        \"dtype\": \"number\",\n        \"std\": 0.09039706834302413,\n        \"min\": 0.0,\n        \"max\": 0.7,\n        \"num_unique_values\": 16,\n        \"samples\": [\n          0.1\n        ],\n        \"semantic_type\": \"\",\n        \"description\": \"\"\n      }\n    },\n    {\n      \"column\": \"base_capture_rate\",\n      \"properties\": {\n        \"dtype\": \"number\",\n        \"std\": 0.0,\n        \"min\": -1.0,\n        \"max\": -1.0,\n        \"num_unique_values\": 1,\n        \"samples\": [\n          -1.0\n        ],\n        \"semantic_type\": \"\",\n        \"description\": \"\"\n      }\n    },\n    {\n      \"column\": \"distance\",\n      \"properties\": {\n        \"dtype\": \"number\",\n        \"std\": 5,\n        \"min\": 1,\n        \"max\": 20,\n        \"num_unique_values\": 4,\n        \"samples\": [\n          1\n        ],\n        \"semantic_type\": \"\",\n        \"description\": \"\"\n      }\n    }\n  ]\n}"
            }
          },
          "metadata": {},
          "execution_count": 8
        }
      ]
    },
    {
      "cell_type": "code",
      "source": [
        "# separando treino e teste\n",
        "x_train, x_test, y_train, y_test = train_test_split(x, y, test_size = 0.25, random_state = 42)"
      ],
      "metadata": {
        "id": "7EL724wxorjw"
      },
      "execution_count": 9,
      "outputs": []
    },
    {
      "cell_type": "code",
      "source": [
        "# configurando parametros DT treino\n",
        "params = {\n",
        "  'random_state':[True],\n",
        "  'criterion': ['log_loss','gini'],\n",
        "  'max_depth': range(1,16),\n",
        "  'min_samples_leaf': range(1,6),\n",
        "}\n",
        "\n",
        "gs = GridSearchCV(DecisionTreeClassifier(), param_grid=params, scoring='accuracy')\n",
        "gs.fit(x_train, y_train)\n",
        "print(gs.score(x_train, y_train))\n",
        "print(gs.best_params_)\n",
        "print(gs.best_estimator_)\n",
        "best_estimator = gs.best_estimator_"
      ],
      "metadata": {
        "colab": {
          "base_uri": "https://localhost:8080/"
        },
        "id": "nNLM8-DUf8VY",
        "outputId": "28cd0fe8-2ef2-4bdb-ec44-83d00708c524"
      },
      "execution_count": 10,
      "outputs": [
        {
          "output_type": "stream",
          "name": "stdout",
          "text": [
            "0.9941002949852508\n",
            "{'criterion': 'log_loss', 'max_depth': 5, 'min_samples_leaf': 2, 'random_state': True}\n",
            "DecisionTreeClassifier(criterion='log_loss', max_depth=5, min_samples_leaf=2,\n",
            "                       random_state=True)\n"
          ]
        }
      ]
    },
    {
      "cell_type": "code",
      "source": [
        "# jogando para teste\n",
        "modelo = DecisionTreeClassifier(criterion='log_loss', max_depth= 5, min_samples_leaf=2, random_state=True)\n",
        "modelo.fit(x_train, y_train)\n",
        "y_pred = modelo.predict(x_test)\n",
        "print(\"acurácia: \", metrics.accuracy_score(y_test, y_pred))"
      ],
      "metadata": {
        "colab": {
          "base_uri": "https://localhost:8080/"
        },
        "id": "J5TZ9ZdMf8aX",
        "outputId": "805fe542-cf93-4fc1-cef1-53ca227d410b"
      },
      "execution_count": 11,
      "outputs": [
        {
          "output_type": "stream",
          "name": "stdout",
          "text": [
            "acurácia:  0.9778761061946902\n"
          ]
        }
      ]
    },
    {
      "cell_type": "code",
      "source": [
        "# matriz de confusão"
      ],
      "metadata": {
        "id": "9KYXyfm9tWWB"
      },
      "execution_count": 12,
      "outputs": []
    },
    {
      "cell_type": "code",
      "source": [
        "matrix = confusion_matrix(y_test, y_pred)\n",
        "sns.heatmap(matrix/np.sum(matrix), annot=True, fmt='.2%', cmap='Reds')"
      ],
      "metadata": {
        "colab": {
          "base_uri": "https://localhost:8080/",
          "height": 448
        },
        "id": "mIWSGtY7tYzx",
        "outputId": "e7ab7ca9-59d7-4494-c865-4fb130212538"
      },
      "execution_count": 13,
      "outputs": [
        {
          "output_type": "execute_result",
          "data": {
            "text/plain": [
              "<Axes: >"
            ]
          },
          "metadata": {},
          "execution_count": 13
        },
        {
          "output_type": "display_data",
          "data": {
            "text/plain": [
              "<Figure size 640x480 with 2 Axes>"
            ],
            "image/png": "[encoded data removed]"
          },
          "metadata": {}
        }
      ]
    },
    {
      "cell_type": "markdown",
      "source": [
        "- RF"
      ],
      "metadata": {
        "id": "ef-MSNFef8e3"
      }
    },
    {
      "cell_type": "code",
      "source": [
        "# configurando parametros RF treino\n",
        "params = {\n",
        "  'random_state':[True],\n",
        "  'n_estimators': [10,30],\n",
        "  'max_depth': range(1,11)\n",
        "}\n",
        "\n",
        "gs = GridSearchCV(RandomForestClassifier(), param_grid=params, scoring='accuracy')\n",
        "gs.fit(x_train, y_train)\n",
        "print(gs.score(x_train, y_train))\n",
        "print(gs.best_params_)\n",
        "best_estimator = gs.best_estimator_"
      ],
      "metadata": {
        "colab": {
          "base_uri": "https://localhost:8080/"
        },
        "id": "4m6POxbdtP-P",
        "outputId": "a6991195-3a26-4c7c-b210-1dce5abf81c2"
      },
      "execution_count": 14,
      "outputs": [
        {
          "output_type": "stream",
          "name": "stdout",
          "text": [
            "0.9941002949852508\n",
            "{'max_depth': 5, 'n_estimators': 30, 'random_state': True}\n"
          ]
        }
      ]
    },
    {
      "cell_type": "code",
      "source": [
        "clf = RandomForestClassifier(criterion = \"gini\", n_estimators=30, random_state=True, max_depth=5)\n",
        "clf.fit(x_train, y_train.values.ravel())\n",
        "y_pred = clf.predict(x_test)\n",
        "print(\"acurácia:\" , metrics.accuracy_score(y_test, y_pred))"
      ],
      "metadata": {
        "colab": {
          "base_uri": "https://localhost:8080/"
        },
        "id": "-tfn8-lV7Vrb",
        "outputId": "cbafc859-b1b3-4f87-8a00-4d39fd70fff2"
      },
      "execution_count": 15,
      "outputs": [
        {
          "output_type": "stream",
          "name": "stdout",
          "text": [
            "acurácia: 0.9867256637168141\n"
          ]
        }
      ]
    },
    {
      "cell_type": "code",
      "source": [
        "# matriz de confusão\n",
        "matrix = confusion_matrix(y_test, y_pred)\n",
        "sns.heatmap(matrix/np.sum(matrix), annot=True, fmt='.2%', cmap='Reds')"
      ],
      "metadata": {
        "colab": {
          "base_uri": "https://localhost:8080/",
          "height": 448
        },
        "id": "h3SYnyDA7FGz",
        "outputId": "585b80f9-06e1-40ec-ba91-d724921281a5"
      },
      "execution_count": 16,
      "outputs": [
        {
          "output_type": "execute_result",
          "data": {
            "text/plain": [
              "<Axes: >"
            ]
          },
          "metadata": {},
          "execution_count": 16
        },
        {
          "output_type": "display_data",
          "data": {
            "text/plain": [
              "<Figure size 640x480 with 2 Axes>"
            ],
            "image/png": "[encoded data removed]"
          },
          "metadata": {}
        }
      ]
    },
    {
      "cell_type": "markdown",
      "source": [
        "- QDA e LDA"
      ],
      "metadata": {
        "id": "tKMotRzszq5K"
      }
    },
    {
      "cell_type": "code",
      "source": [
        "# normalizando os dados\n",
        "sc = StandardScaler()\n",
        "x_train = sc.fit_transform(x_train)\n",
        "x_test = sc.transform(x_test)"
      ],
      "metadata": {
        "id": "vdrLDP_-zq_w"
      },
      "execution_count": 17,
      "outputs": []
    },
    {
      "cell_type": "code",
      "source": [
        "# configurando parametros LDA LSQR\n",
        "params = {\n",
        "  'solver' : ['lsqr'],\n",
        "  'shrinkage' : [0, 1]\n",
        "}\n",
        "\n",
        "gs = GridSearchCV(LinearDiscriminantAnalysis(), param_grid=params, scoring='accuracy')\n",
        "gs.fit(x_train, y_train)\n",
        "print(gs.score(x_train, y_train))\n",
        "print(gs.best_params_)\n",
        "best_estimator = gs.best_estimator_"
      ],
      "metadata": {
        "colab": {
          "base_uri": "https://localhost:8080/"
        },
        "id": "6G3acT6wzrGf",
        "outputId": "60890a66-deba-44ca-956b-a185a436fdfe"
      },
      "execution_count": 18,
      "outputs": [
        {
          "output_type": "stream",
          "name": "stdout",
          "text": [
            "0.9660766961651918\n",
            "{'shrinkage': 0, 'solver': 'lsqr'}\n"
          ]
        }
      ]
    },
    {
      "cell_type": "code",
      "source": [
        "model = LinearDiscriminantAnalysis(n_components=1, solver='lsqr', shrinkage= 0) # Singular Value Decomposition: mais features, melhor\n",
        "model.fit(x_test, y_test)\n",
        "Y_prev = model.predict(x_test)\n",
        "print(\"Acurácia lsqr: \" , accuracy_score(y_test, Y_prev))"
      ],
      "metadata": {
        "colab": {
          "base_uri": "https://localhost:8080/"
        },
        "id": "IQ8Vwx62zrLu",
        "outputId": "8ff178e2-8aaf-4891-d767-f5ed6abbb127"
      },
      "execution_count": 19,
      "outputs": [
        {
          "output_type": "stream",
          "name": "stdout",
          "text": [
            "Acurácia lsqr:  0.9646017699115044\n"
          ]
        }
      ]
    },
    {
      "cell_type": "code",
      "source": [
        "# LDA SVD\n",
        "model = LinearDiscriminantAnalysis(n_components=1, solver='svd') # Singular Value Decomposition: mais features, melhor\n",
        "model.fit(x_train, y_train)\n",
        "y_prev = model.predict(x_train)\n",
        "print(\"Acurácia svd: \" , accuracy_score(y_train, y_prev))"
      ],
      "metadata": {
        "colab": {
          "base_uri": "https://localhost:8080/"
        },
        "id": "jasMzkobzrQk",
        "outputId": "0cf3670d-7a35-48a5-cd56-d773f87856fd"
      },
      "execution_count": 20,
      "outputs": [
        {
          "output_type": "stream",
          "name": "stdout",
          "text": [
            "Acurácia svd:  0.9660766961651918\n"
          ]
        }
      ]
    },
    {
      "cell_type": "code",
      "source": [
        "model = LinearDiscriminantAnalysis(n_components=1, solver='svd') # Singular Value Decomposition: mais features, melhor\n",
        "model.fit(x_test, y_test)\n",
        "y_prev = model.predict(x_test)\n",
        "print(\"Acurácia svd: \" , accuracy_score(y_test, y_prev))"
      ],
      "metadata": {
        "colab": {
          "base_uri": "https://localhost:8080/"
        },
        "id": "AL3ckIE-zrVy",
        "outputId": "abcadfe1-9e43-4936-d5f5-c60ab3efebaa"
      },
      "execution_count": 21,
      "outputs": [
        {
          "output_type": "stream",
          "name": "stdout",
          "text": [
            "Acurácia svd:  0.9646017699115044\n"
          ]
        }
      ]
    },
    {
      "cell_type": "code",
      "source": [
        "# Quadratic = QDA\n",
        "model = QuadraticDiscriminantAnalysis()\n",
        "model.fit(x_train, y_train)\n",
        "y_prev = model.predict(x_train)\n",
        "print(\"Acurácia QDA: \" , accuracy_score(y_train, y_prev))"
      ],
      "metadata": {
        "colab": {
          "base_uri": "https://localhost:8080/"
        },
        "id": "kAnocKQ7zraK",
        "outputId": "ca6f4369-7915-4352-c7f9-6dfcf63b8073"
      },
      "execution_count": 22,
      "outputs": [
        {
          "output_type": "stream",
          "name": "stdout",
          "text": [
            "Acurácia QDA:  0.9351032448377581\n"
          ]
        },
        {
          "output_type": "stream",
          "name": "stderr",
          "text": [
            "/usr/local/lib/python3.10/dist-packages/sklearn/discriminant_analysis.py:935: UserWarning: Variables are collinear\n",
            "  warnings.warn(\"Variables are collinear\")\n",
            "/usr/local/lib/python3.10/dist-packages/sklearn/discriminant_analysis.py:960: RuntimeWarning: divide by zero encountered in power\n",
            "  X2 = np.dot(Xm, R * (S ** (-0.5)))\n",
            "/usr/local/lib/python3.10/dist-packages/sklearn/discriminant_analysis.py:960: RuntimeWarning: invalid value encountered in multiply\n",
            "  X2 = np.dot(Xm, R * (S ** (-0.5)))\n",
            "/usr/local/lib/python3.10/dist-packages/sklearn/discriminant_analysis.py:963: RuntimeWarning: divide by zero encountered in log\n",
            "  u = np.asarray([np.sum(np.log(s)) for s in self.scalings_])\n"
          ]
        }
      ]
    },
    {
      "cell_type": "code",
      "source": [
        "model = QuadraticDiscriminantAnalysis()\n",
        "model.fit(x_test, y_test)\n",
        "y_prev = model.predict(x_test)\n",
        "print(\"Acurácia QDA: \" , accuracy_score(y_test, y_prev))"
      ],
      "metadata": {
        "colab": {
          "base_uri": "https://localhost:8080/"
        },
        "id": "9tXzA4ASzre4",
        "outputId": "d7564d0c-7575-438f-9cba-b394288a58e3"
      },
      "execution_count": 23,
      "outputs": [
        {
          "output_type": "stream",
          "name": "stdout",
          "text": [
            "Acurácia QDA:  0.9424778761061947\n"
          ]
        },
        {
          "output_type": "stream",
          "name": "stderr",
          "text": [
            "/usr/local/lib/python3.10/dist-packages/sklearn/discriminant_analysis.py:935: UserWarning: Variables are collinear\n",
            "  warnings.warn(\"Variables are collinear\")\n",
            "/usr/local/lib/python3.10/dist-packages/sklearn/discriminant_analysis.py:960: RuntimeWarning: divide by zero encountered in power\n",
            "  X2 = np.dot(Xm, R * (S ** (-0.5)))\n",
            "/usr/local/lib/python3.10/dist-packages/sklearn/discriminant_analysis.py:960: RuntimeWarning: invalid value encountered in multiply\n",
            "  X2 = np.dot(Xm, R * (S ** (-0.5)))\n",
            "/usr/local/lib/python3.10/dist-packages/sklearn/discriminant_analysis.py:963: RuntimeWarning: divide by zero encountered in log\n",
            "  u = np.asarray([np.sum(np.log(s)) for s in self.scalings_])\n"
          ]
        }
      ]
    },
    {
      "cell_type": "code",
      "source": [],
      "metadata": {
        "id": "IWYid28p1iFC"
      },
      "execution_count": null,
      "outputs": []
    },
    {
      "cell_type": "code",
      "source": [],
      "metadata": {
        "id": "cHtIFCMY1iJ5"
      },
      "execution_count": null,
      "outputs": []
    },
    {
      "cell_type": "code",
      "source": [],
      "metadata": {
        "id": "nZtXrFfx1iPS"
      },
      "execution_count": null,
      "outputs": []
    }
  ]
}